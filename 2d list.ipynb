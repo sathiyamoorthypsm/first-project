{
 "cells": [
  {
   "cell_type": "code",
   "execution_count": 4,
   "id": "f0f929b2",
   "metadata": {},
   "outputs": [
    {
     "name": "stdout",
     "output_type": "stream",
     "text": [
      "[['karur', 'erode'], ['ban', 'maq'], ['cochin', 'palakad']]\n"
     ]
    }
   ],
   "source": [
    "TN=['karur','erode']\n",
    "KA=['ban','maq']\n",
    "KL=['cochin','palakad']\n",
    "india=[TN,KA,KL]\n",
    "print(india)"
   ]
  },
  {
   "cell_type": "code",
   "execution_count": 5,
   "id": "5ffcdfc8",
   "metadata": {},
   "outputs": [
    {
     "name": "stdout",
     "output_type": "stream",
     "text": [
      "[['namakkal', 'erode'], ['ban', 'maq'], ['cochin', 'palakad']]\n"
     ]
    }
   ],
   "source": [
    "india[0][0]='namakkal'\n",
    "print(india)"
   ]
  },
  {
   "cell_type": "code",
   "execution_count": 6,
   "id": "c40229e6",
   "metadata": {},
   "outputs": [
    {
     "data": {
      "text/plain": [
       "[['namakkal', 'erode'], ['ban', 'maq'], ['cochin', 'palakad']]"
      ]
     },
     "execution_count": 6,
     "metadata": {},
     "output_type": "execute_result"
    }
   ],
   "source": [
    "india_st=india\n",
    "india_st\n"
   ]
  },
  {
   "cell_type": "code",
   "execution_count": 7,
   "id": "e795f6b2",
   "metadata": {},
   "outputs": [
    {
     "data": {
      "text/plain": [
       "[['namakkal', 'madurai'], ['ban', 'maq'], ['cochin', 'palakad']]"
      ]
     },
     "execution_count": 7,
     "metadata": {},
     "output_type": "execute_result"
    }
   ],
   "source": [
    "india_st[0][1]=\"madurai\"\n",
    "india_st"
   ]
  },
  {
   "cell_type": "code",
   "execution_count": 8,
   "id": "49b81a06",
   "metadata": {},
   "outputs": [
    {
     "data": {
      "text/plain": [
       "[['namakkal', 'madurai'], ['ban', 'maq'], ['cochin', 'palakad']]"
      ]
     },
     "execution_count": 8,
     "metadata": {},
     "output_type": "execute_result"
    }
   ],
   "source": [
    "india"
   ]
  },
  {
   "cell_type": "code",
   "execution_count": 9,
   "id": "a5b8b899",
   "metadata": {},
   "outputs": [
    {
     "data": {
      "text/plain": [
       "['namakkal', 'madurai']"
      ]
     },
     "execution_count": 9,
     "metadata": {},
     "output_type": "execute_result"
    }
   ],
   "source": [
    "TN"
   ]
  },
  {
   "cell_type": "code",
   "execution_count": 10,
   "id": "d2f1621e",
   "metadata": {},
   "outputs": [
    {
     "data": {
      "text/plain": [
       "2699490831360"
      ]
     },
     "execution_count": 10,
     "metadata": {},
     "output_type": "execute_result"
    }
   ],
   "source": [
    "id(india)"
   ]
  },
  {
   "cell_type": "code",
   "execution_count": 11,
   "id": "455f25ac",
   "metadata": {},
   "outputs": [
    {
     "data": {
      "text/plain": [
       "2699490831360"
      ]
     },
     "execution_count": 11,
     "metadata": {},
     "output_type": "execute_result"
    }
   ],
   "source": [
    "id(india_st)"
   ]
  },
  {
   "cell_type": "code",
   "execution_count": 19,
   "id": "3cb5e024",
   "metadata": {},
   "outputs": [
    {
     "name": "stdout",
     "output_type": "stream",
     "text": [
      "2699511432192\n"
     ]
    },
    {
     "data": {
      "text/plain": [
       "2699490831360"
      ]
     },
     "execution_count": 19,
     "metadata": {},
     "output_type": "execute_result"
    }
   ],
   "source": [
    "import copy\n",
    "ind_st=copy.deepcopy(india_st)\n",
    "print(id(ind_st))\n",
    "id(india_st)"
   ]
  },
  {
   "cell_type": "code",
   "execution_count": 20,
   "id": "143ad7b0",
   "metadata": {},
   "outputs": [
    {
     "name": "stdout",
     "output_type": "stream",
     "text": [
      "[['cbe', 'madurai'], ['ban', 'maq'], ['cochin', 'palakad']] [['namakkal', 'madurai'], ['ban', 'maq'], ['cochin', 'palakad']]\n"
     ]
    }
   ],
   "source": [
    "ind_st[0][0]='cbe'\n",
    "print(ind_st,india_st)"
   ]
  },
  {
   "cell_type": "code",
   "execution_count": null,
   "id": "408f7bd5",
   "metadata": {},
   "outputs": [],
   "source": []
  },
  {
   "cell_type": "code",
   "execution_count": null,
   "id": "4d025871",
   "metadata": {},
   "outputs": [],
   "source": []
  }
 ],
 "metadata": {
  "kernelspec": {
   "display_name": "Python 3 (ipykernel)",
   "language": "python",
   "name": "python3"
  },
  "language_info": {
   "codemirror_mode": {
    "name": "ipython",
    "version": 3
   },
   "file_extension": ".py",
   "mimetype": "text/x-python",
   "name": "python",
   "nbconvert_exporter": "python",
   "pygments_lexer": "ipython3",
   "version": "3.11.4"
  }
 },
 "nbformat": 4,
 "nbformat_minor": 5
}
